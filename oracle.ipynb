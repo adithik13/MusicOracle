{
 "cells": [
  {
   "cell_type": "markdown",
   "metadata": {},
   "source": [
    "Begin by importing necessary libraries. We will use tensorflow for the algorithms, pyaudio to handle parsing of live audio, and matplotlib to create visuals."
   ]
  },
  {
   "cell_type": "code",
   "execution_count": 6,
   "metadata": {},
   "outputs": [],
   "source": [
    "import tensorflow as tf \n",
    "import pyaudio\n",
    "import matplotlib.pyplot as plt\n",
    "import matplotlib\n",
    "import IPython\n",
    "import struct\n",
    "import numpy as np"
   ]
  },
  {
   "cell_type": "markdown",
   "metadata": {},
   "source": [
    "Waveform visualizer for if the user decides to feed live audio:"
   ]
  },
  {
   "cell_type": "code",
   "execution_count": 7,
   "metadata": {},
   "outputs": [],
   "source": [
    "matplotlib.use('TkAgg') # using tkinter for visualization <3\n",
    "\n",
    "CHUNK = 1024 * 4  # 4096 samples per chunk\n",
    "FORMAT = pyaudio.paInt16\n",
    "CHANNELS = 1  # mono sound because only one mic\n",
    "RATE = 44100 #standard rate 44.1 khz"
   ]
  },
  {
   "cell_type": "code",
   "execution_count": 8,
   "metadata": {},
   "outputs": [],
   "source": [
    "p = pyaudio.PyAudio()\n",
    "\n",
    "stream = p.open(\n",
    "    format=FORMAT,\n",
    "    channels=CHANNELS,\n",
    "    rate=RATE,\n",
    "    input=True, #initialize as true\n",
    "    output=True, #initialize as true\n",
    "    frames_per_buffer=CHUNK\n",
    ")"
   ]
  },
  {
   "cell_type": "code",
   "execution_count": 9,
   "metadata": {},
   "outputs": [],
   "source": [
    "# create the plot\n",
    "fig, ax = plt.subplots()\n",
    "plt.ion()  # interactive mode on\n",
    "x = np.arange(0, 2 * CHUNK)  # x values should match the length of data_int\n",
    "line, = ax.plot(x, np.random.rand(2 * CHUNK))"
   ]
  },
  {
   "cell_type": "code",
   "execution_count": 10,
   "metadata": {},
   "outputs": [
    {
     "data": {
      "text/plain": [
       "(0.0, 8192.0)"
      ]
     },
     "execution_count": 10,
     "metadata": {},
     "output_type": "execute_result"
    }
   ],
   "source": [
    "# set y-axis limits to fit 16-bit audio\n",
    "ax.set_ylim(-2000, 2000)\n",
    "ax.set_xlim(0, 2 * CHUNK)"
   ]
  },
  {
   "cell_type": "code",
   "execution_count": 11,
   "metadata": {},
   "outputs": [
    {
     "data": {
      "text/plain": [
       "Text(17.972222222222214, 0.5, 'Amplitude')"
      ]
     },
     "execution_count": 11,
     "metadata": {},
     "output_type": "execute_result"
    }
   ],
   "source": [
    "# set plot labels and title\n",
    "ax.set_title(\"Real-Time Audio Waveform\")\n",
    "ax.set_xlabel(\"Sample Index\")\n",
    "ax.set_ylabel(\"Amplitude\")"
   ]
  },
  {
   "cell_type": "code",
   "execution_count": 12,
   "metadata": {},
   "outputs": [
    {
     "name": "stdout",
     "output_type": "stream",
     "text": [
      "Stream stopped by user.\n"
     ]
    }
   ],
   "source": [
    "try:\n",
    "    while True:\n",
    "        # read the audio data\n",
    "        data = stream.read(CHUNK * 2)\n",
    "\n",
    "        # unpack the data into 16-bit integers and center it around zero\n",
    "        data_int = np.array(struct.unpack(str(2 * CHUNK) + 'h', data), dtype='int16')\n",
    "\n",
    "        # update the line plot with new data\n",
    "        line.set_ydata(data_int)\n",
    "\n",
    "        # draw and flush the plot\n",
    "        fig.canvas.draw()\n",
    "        fig.canvas.flush_events()\n",
    "        plt.pause(0.01)  # Small pause to give GUI time to update\n",
    "except KeyboardInterrupt:\n",
    "    print(\"Stream stopped by user.\")\n",
    "    stream.stop_stream()\n",
    "    stream.close()\n",
    "    p.terminate()"
   ]
  }
 ],
 "metadata": {
  "kernelspec": {
   "display_name": "oracle_venv",
   "language": "python",
   "name": "python3"
  },
  "language_info": {
   "codemirror_mode": {
    "name": "ipython",
    "version": 3
   },
   "file_extension": ".py",
   "mimetype": "text/x-python",
   "name": "python",
   "nbconvert_exporter": "python",
   "pygments_lexer": "ipython3",
   "version": "3.12.4"
  }
 },
 "nbformat": 4,
 "nbformat_minor": 2
}
